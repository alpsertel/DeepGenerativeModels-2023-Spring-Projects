{
 "cells": [
  {
   "cell_type": "code",
   "execution_count": 12,
   "id": "e92b328e-7622-46c2-be23-076d353ad12a",
   "metadata": {
    "tags": []
   },
   "outputs": [],
   "source": [
    "from taming.models.vqgan import VQModel"
   ]
  },
  {
   "cell_type": "markdown",
   "id": "f588b58e-f897-4d1c-9d9c-c6bb817e1275",
   "metadata": {},
   "source": [
    "model = VQModel()"
   ]
  }
 ],
 "metadata": {
  "kernelspec": {
   "display_name": "Python 3 (ipykernel)",
   "language": "python",
   "name": "python3"
  },
  "language_info": {
   "codemirror_mode": {
    "name": "ipython",
    "version": 3
   },
   "file_extension": ".py",
   "mimetype": "text/x-python",
   "name": "python",
   "nbconvert_exporter": "python",
   "pygments_lexer": "ipython3",
   "version": "3.11.3"
  }
 },
 "nbformat": 4,
 "nbformat_minor": 5
}
